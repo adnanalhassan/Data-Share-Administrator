{
 "cells": [
  {
   "cell_type": "markdown",
   "id": "369e4206-d82b-41db-9595-5828eb540c88",
   "metadata": {},
   "source": [
    "# Data Cleaning & Anonymisation for AI Assessment\n",
    "\n",
    "This notebook simulates:\n",
    "- Merging student metadata with assessment scores\n",
    "- Dropping incomplete records\n",
    "- Filtering invalid scores\n",
    "- Anonymising names\n",
    "- Exporting clean data for AI pipelines"
   ]
  },
  {
   "cell_type": "code",
   "execution_count": 1,
   "id": "b1072e5f-3cb8-4d61-a2b7-de385d170ab4",
   "metadata": {},
   "outputs": [],
   "source": [
    "import pandas as pd\n",
    "\n",
    "scores = pd.read_csv(\"../data/exam_scores.csv\")\n",
    "meta = pd.read_csv(\"../data/student_metadata.csv\")"
   ]
  },
  {
   "cell_type": "code",
   "execution_count": 2,
   "id": "f583e4ea-5bc2-4776-8cc0-50cea61deab8",
   "metadata": {},
   "outputs": [
    {
     "data": {
      "text/plain": [
       "(  student_id  exam_score submission_date\n",
       " 0      S0001        81.8      2024-06-23\n",
       " 1      S0002        81.9      2025-03-13\n",
       " 2      S0003        61.4      2025-03-11\n",
       " 3      S0004        75.1      2024-07-10\n",
       " 4      S0005        39.1      2024-04-29,\n",
       "   student_id       student_name                     school year_group\n",
       " 0      S0001  Alejandro Escobar              Jenkins-Ortiz    Year 10\n",
       " 1      S0002        Shannon Orr              Nelson-Miller    Year 12\n",
       " 2      S0003         Riley Reid  Delgado, Yang and Padilla    Year 11\n",
       " 3      S0004    Christine Brown                 Newman LLC    Year 10\n",
       " 4      S0005    Jennifer Mosley          Rodriguez-Mcclain    Year 10)"
      ]
     },
     "execution_count": 2,
     "metadata": {},
     "output_type": "execute_result"
    }
   ],
   "source": [
    "scores.head(), meta.head()"
   ]
  },
  {
   "cell_type": "code",
   "execution_count": 3,
   "id": "0a57938c-3c01-4bbf-9e2f-a0b778383611",
   "metadata": {},
   "outputs": [
    {
     "name": "stdout",
     "output_type": "stream",
     "text": [
      "Merged shape: (50, 6)\n"
     ]
    }
   ],
   "source": [
    "merged = pd.merge(scores, meta, on=\"student_id\", how=\"inner\")\n",
    "print(f\"Merged shape: {merged.shape}\")"
   ]
  },
  {
   "cell_type": "code",
   "execution_count": 4,
   "id": "ff2ca612-eaaf-4bb5-8a02-8376ef319e3a",
   "metadata": {},
   "outputs": [],
   "source": [
    "cleaned = merged.dropna()\n",
    "cleaned = cleaned[cleaned[\"exam_score\"].between(0, 100)]\n",
    "cleaned[\"student_name\"] = \"ANON\""
   ]
  },
  {
   "cell_type": "code",
   "execution_count": 5,
   "id": "55407e98-d291-4533-b381-db0305efad0a",
   "metadata": {},
   "outputs": [
    {
     "data": {
      "text/html": [
       "<div>\n",
       "<style scoped>\n",
       "    .dataframe tbody tr th:only-of-type {\n",
       "        vertical-align: middle;\n",
       "    }\n",
       "\n",
       "    .dataframe tbody tr th {\n",
       "        vertical-align: top;\n",
       "    }\n",
       "\n",
       "    .dataframe thead th {\n",
       "        text-align: right;\n",
       "    }\n",
       "</style>\n",
       "<table border=\"1\" class=\"dataframe\">\n",
       "  <thead>\n",
       "    <tr style=\"text-align: right;\">\n",
       "      <th></th>\n",
       "      <th>student_id</th>\n",
       "      <th>exam_score</th>\n",
       "      <th>submission_date</th>\n",
       "      <th>student_name</th>\n",
       "      <th>school</th>\n",
       "      <th>year_group</th>\n",
       "    </tr>\n",
       "  </thead>\n",
       "  <tbody>\n",
       "    <tr>\n",
       "      <th>0</th>\n",
       "      <td>S0001</td>\n",
       "      <td>81.8</td>\n",
       "      <td>2024-06-23</td>\n",
       "      <td>ANON</td>\n",
       "      <td>Jenkins-Ortiz</td>\n",
       "      <td>Year 10</td>\n",
       "    </tr>\n",
       "    <tr>\n",
       "      <th>1</th>\n",
       "      <td>S0002</td>\n",
       "      <td>81.9</td>\n",
       "      <td>2025-03-13</td>\n",
       "      <td>ANON</td>\n",
       "      <td>Nelson-Miller</td>\n",
       "      <td>Year 12</td>\n",
       "    </tr>\n",
       "    <tr>\n",
       "      <th>2</th>\n",
       "      <td>S0003</td>\n",
       "      <td>61.4</td>\n",
       "      <td>2025-03-11</td>\n",
       "      <td>ANON</td>\n",
       "      <td>Delgado, Yang and Padilla</td>\n",
       "      <td>Year 11</td>\n",
       "    </tr>\n",
       "    <tr>\n",
       "      <th>3</th>\n",
       "      <td>S0004</td>\n",
       "      <td>75.1</td>\n",
       "      <td>2024-07-10</td>\n",
       "      <td>ANON</td>\n",
       "      <td>Newman LLC</td>\n",
       "      <td>Year 10</td>\n",
       "    </tr>\n",
       "    <tr>\n",
       "      <th>4</th>\n",
       "      <td>S0005</td>\n",
       "      <td>39.1</td>\n",
       "      <td>2024-04-29</td>\n",
       "      <td>ANON</td>\n",
       "      <td>Rodriguez-Mcclain</td>\n",
       "      <td>Year 10</td>\n",
       "    </tr>\n",
       "  </tbody>\n",
       "</table>\n",
       "</div>"
      ],
      "text/plain": [
       "  student_id  exam_score submission_date student_name  \\\n",
       "0      S0001        81.8      2024-06-23         ANON   \n",
       "1      S0002        81.9      2025-03-13         ANON   \n",
       "2      S0003        61.4      2025-03-11         ANON   \n",
       "3      S0004        75.1      2024-07-10         ANON   \n",
       "4      S0005        39.1      2024-04-29         ANON   \n",
       "\n",
       "                      school year_group  \n",
       "0              Jenkins-Ortiz    Year 10  \n",
       "1              Nelson-Miller    Year 12  \n",
       "2  Delgado, Yang and Padilla    Year 11  \n",
       "3                 Newman LLC    Year 10  \n",
       "4          Rodriguez-Mcclain    Year 10  "
      ]
     },
     "execution_count": 5,
     "metadata": {},
     "output_type": "execute_result"
    }
   ],
   "source": [
    "cleaned.to_csv(\"../output/cleaned_dataset.csv\", index=False)\n",
    "cleaned.head()"
   ]
  },
  {
   "cell_type": "code",
   "execution_count": null,
   "id": "f59bac09-8850-4cfc-8271-73cafb1e7c48",
   "metadata": {},
   "outputs": [],
   "source": []
  }
 ],
 "metadata": {
  "kernelspec": {
   "display_name": "Python 3 (ipykernel)",
   "language": "python",
   "name": "python3"
  },
  "language_info": {
   "codemirror_mode": {
    "name": "ipython",
    "version": 3
   },
   "file_extension": ".py",
   "mimetype": "text/x-python",
   "name": "python",
   "nbconvert_exporter": "python",
   "pygments_lexer": "ipython3",
   "version": "3.12.8"
  }
 },
 "nbformat": 4,
 "nbformat_minor": 5
}
